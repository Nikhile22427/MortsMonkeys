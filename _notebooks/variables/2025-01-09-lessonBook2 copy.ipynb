{
 "cells": [
  {
   "cell_type": "raw",
   "metadata": {
    "vscode": {
     "languageId": "raw"
    }
   },
   "source": [
    "---\n",
    "layout: post\n",
    "title: Lesson 2\n",
    "description: Now that you know the types of variables, let's see how they can be used in different real-world contexts.\n",
    "type: collab\n",
    "comments: false\n",
    "permalink: /variables/lessonBook2\n",
    "---"
   ]
  },
  {
   "cell_type": "markdown",
   "metadata": {},
   "source": [
    "Plan:\n",
    "calculations with variables\n",
    "advanced declarations\n"
   ]
  },
  {
   "cell_type": "markdown",
   "metadata": {},
   "source": [
    "Advanced Application of Variables \n",
    "(Normal people talk: Common Uses)"
   ]
  },
  {
   "cell_type": "markdown",
   "metadata": {},
   "source": [
    "<h2>How Can We Use Variables?</h2>\n",
    "<b1>\n",
    "Variables are useful in virtually every context. Do you want to store a dynamically changing value, like score or health? Use a variable. Want to contain messages that can contain changing pieces of information? Variables. Want to intentionally have empty values for later use (for whatever reason)? Variables.\n",
    "</b1>"
   ]
  },
  {
   "cell_type": "markdown",
   "metadata": {},
   "source": [
    "<b1>Score is a great example on how to use variables in an actual context. In this example, every time the program is run, the Score variable increments by 1.</b1>"
   ]
  },
  {
   "cell_type": "code",
   "execution_count": 7,
   "metadata": {
    "vscode": {
     "languageId": "javascript"
    }
   },
   "outputs": [
    {
     "data": {
      "application/javascript": "// Get the current score from localStorage, or set it to 0 if it doesn't exist\nlet score = parseInt(localStorage.getItem(\"score\")) || 0;\n\n// Increment the score\nscore += 1;\n\n// Save the updated score back to localStorage\nlocalStorage.setItem(\"score\", score);\n\n// Log the current score\nconsole.log(`Your score is now: ${score}`);\n",
      "text/plain": [
       "<IPython.core.display.Javascript object>"
      ]
     },
     "metadata": {},
     "output_type": "display_data"
    }
   ],
   "source": [
    "%%js\n",
    "// Get the current score from localStorage, or set it to 0 if it doesn't exist\n",
    "let score = parseInt(localStorage.getItem(\"score\")) || 0;\n",
    "\n",
    "// Increment the score\n",
    "score += 1;\n",
    "\n",
    "// Save the updated score back to localStorage\n",
    "localStorage.setItem(\"score\", score);\n",
    "\n",
    "// Log the current score\n",
    "console.log(`Your score is now: ${score}`);"
   ]
  },
  {
   "cell_type": "markdown",
   "metadata": {},
   "source": [
    "Space for. other menial information"
   ]
  },
  {
   "cell_type": "markdown",
   "metadata": {},
   "source": [
    "### Object Oriented Variable Usage"
   ]
  },
  {
   "cell_type": "markdown",
   "metadata": {},
   "source": [
    "You now know how to define variables and vaguely know how to use them. However, with OOP programming there are many more variable types."
   ]
  },
  {
   "cell_type": "markdown",
   "metadata": {},
   "source": [
    "><h2>Static Variable</h2>"
   ]
  },
  {
   "cell_type": "markdown",
   "metadata": {},
   "source": [
    "Static variables are variables that are \"static\" throughout all instances of the class. They can also be accessed directly in the class without having to make a instance."
   ]
  },
  {
   "cell_type": "code",
   "execution_count": 35,
   "metadata": {
    "vscode": {
     "languageId": "javascript"
    }
   },
   "outputs": [
    {
     "data": {
      "application/javascript": "class myClass {\n    static Health = 100; //this is the static variable\n\n    \n    \n}\nconsole.log(myClass.Health)\n",
      "text/plain": [
       "<IPython.core.display.Javascript object>"
      ]
     },
     "metadata": {},
     "output_type": "display_data"
    }
   ],
   "source": [
    "%%js \n",
    "class myCharacter {\n",
    "    static Health = 100; //this is the static variable\n",
    "\n",
    "    \n",
    "    \n",
    "}\n",
    "console.log(myCharacter.Health)"
   ]
  },
  {
   "cell_type": "markdown",
   "metadata": {},
   "source": [
    "In this example, the static variable, noted by the \"static\" keyword, defines Health for the class \"Mycharacter.\" If I were to make another character under the class Mycharacter, this health value would become a shared health pool - if one character takes damage the other's health is affected as well."
   ]
  },
  {
   "cell_type": "markdown",
   "metadata": {},
   "source": [
    "Now, lets see if this static variable works in practice."
   ]
  },
  {
   "cell_type": "code",
   "execution_count": null,
   "metadata": {
    "vscode": {
     "languageId": "javascript"
    }
   },
   "outputs": [
    {
     "data": {
      "application/javascript": "class Dog {\n    static Health = 100\n    constructor(name, age) {\n        this.name = name\n        this.age = age\n    }\n}\n\nlet myDog = new Dog(\"QuadraticFormula\", 2)\n\nconsole.log(Dog.Health)\n",
      "text/plain": [
       "<IPython.core.display.Javascript object>"
      ]
     },
     "metadata": {},
     "output_type": "display_data"
    }
   ],
   "source": [
    "%%js\n",
    "class Dog {\n",
    "    static Health = 100\n",
    "    constructor(name, age) {\n",
    "        this.name = name // I wonder what kind of variable this is\n",
    "        this.age = age\n",
    "    }\n",
    "}\n",
    "\n",
    "let myDog = new Dog(\"QuadraticFormula\", 2)\n",
    "console.log(myDog.name)\n",
    "console.log(Dog.Health) //since this variable is shared across all instances, to access this dog's health you access from the class.\n",
    "//to show that this is truly shared across all classes, lets modify the health then make another dog.\n",
    "Dog.Health = 75\n",
    "\n",
    "let otherDog = new Dog(\"woke up on both sides of the bed\", 10)\n",
    "console.log(otherDog.name)\n",
    "console.log(Dog.Health) //accessing this dog's health"
   ]
  },
  {
   "cell_type": "markdown",
   "metadata": {},
   "source": [
    "Other common use cases for Static Variables are counters, configuration settings, global constants, and could even be used to store base stats for characters in a video game"
   ]
  },
  {
   "cell_type": "markdown",
   "metadata": {},
   "source": [
    "><h2>Instanced Variables</h2>\n"
   ]
  },
  {
   "cell_type": "markdown",
   "metadata": {},
   "source": [
    "Now, you may have seen another kind of variable in my example above."
   ]
  }
 ],
 "metadata": {
  "kernelspec": {
   "display_name": "base",
   "language": "python",
   "name": "python3"
  },
  "language_info": {
   "codemirror_mode": {
    "name": "ipython",
    "version": 3
   },
   "file_extension": ".py",
   "mimetype": "text/x-python",
   "name": "python",
   "nbconvert_exporter": "python",
   "pygments_lexer": "ipython3",
   "version": "3.12.7"
  }
 },
 "nbformat": 4,
 "nbformat_minor": 2
}
