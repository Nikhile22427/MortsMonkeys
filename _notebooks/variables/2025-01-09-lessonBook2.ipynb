{
 "cells": [
  {
   "cell_type": "raw",
   "metadata": {
    "vscode": {
     "languageId": "raw"
    }
   },
   "source": [
    "---\n",
    "layout: post\n",
    "title: Lesson 2\n",
    "description: Now that you know the types of variables, let's see how they can be used in different real-world contexts.\n",
    "type: collab\n",
    "comments: false\n",
    "permalink: /variables/lessonBook2\n",
    "---"
   ]
  },
  {
   "cell_type": "markdown",
   "metadata": {},
   "source": [
    "Plan:\n",
    "calculations with variables\n",
    "advanced declarations\n"
   ]
  },
  {
   "cell_type": "markdown",
   "metadata": {},
   "source": [
    "Advanced Application of Variables \n",
    "(Normal people talk: Common Uses)"
   ]
  },
  {
   "cell_type": "markdown",
   "metadata": {},
   "source": [
    "<h2>How Can We Use Variables?</h2>\n",
    "<b1>\n",
    "Variables are useful in virtually every context. Do you want to store a dynamically changing value, like score or health? Use a variable. Want to contain messages that can contain changing pieces of information? Variables. Want to intentionally have empty values for later use (for whatever reason)? Variables.\n",
    "</b1>"
   ]
  },
  {
   "cell_type": "markdown",
   "metadata": {},
   "source": [
    "<b1>Score is a great example on how to use variables in an actual context. In this example, every time the program is run, the Score variable increments by 1.</b1>"
   ]
  },
  {
   "cell_type": "code",
   "execution_count": 13,
   "metadata": {
    "vscode": {
     "languageId": "javascript"
    }
   },
   "outputs": [
    {
     "data": {
      "application/javascript": "// Get the current score from localStorage, or set it to 0 if it doesn't exist\nlet score = parseInt(localStorage.getItem(\"score\")) || 0;\n\n// Increment the score\nscore += 1;\n\n// Save the updated score back to localStorage\nlocalStorage.setItem(\"score\", score);\n\n// Log the current score\nconsole.log(`Your score is now: ${score}`);\n",
      "text/plain": [
       "<IPython.core.display.Javascript object>"
      ]
     },
     "metadata": {},
     "output_type": "display_data"
    }
   ],
   "source": [
    "%%js\n",
    "// Get the current score from localStorage, or set it to 0 if it doesn't exist\n",
    "let score = parseInt(localStorage.getItem(\"score\")) || 0;\n",
    "\n",
    "// Increment the score\n",
    "score += 1;\n",
    "\n",
    "// Save the updated score back to localStorage\n",
    "localStorage.setItem(\"score\", score);\n",
    "\n",
    "// Log the current score\n",
    "console.log(`Your score is now: ${score}`);"
   ]
  },
  {
   "cell_type": "markdown",
   "metadata": {},
   "source": [
    "Space for. other menial information"
   ]
  },
  {
   "cell_type": "markdown",
   "metadata": {},
   "source": [
    "### Object Oriented Variable Usage"
   ]
  },
  {
   "cell_type": "markdown",
   "metadata": {},
   "source": [
    "You now know how to define variables and vaguely know how to use them. However you cannot fully use them to accomplish a goal. Your homework will be used as an example for how to use the variables after you define them."
   ]
  },
  {
   "cell_type": "code",
   "execution_count": null,
   "metadata": {
    "vscode": {
     "languageId": "javascript"
    }
   },
   "outputs": [],
   "source": [
    "%%js\n",
    "\n",
    "let spaceship = \"Mort's Flying Monkey\";\n",
    "let initialFuel = 100; \n",
    "let distanceTraveled = 0; \n",
    "let fuelConsumptionRate = 2; \n",
    "\n",
    "let selectedFuel = 50; \n",
    "let missionStatus = \"\"; \n",
    "let fuelDrops = Math.floor(Math.random() * 3) + 1; \n",
    "\n",
    "\n",
    "function collectFuel(currentFuel, distance) {\n",
    "  let fuelCollected = Math.floor(Math.random() * 20) + 10; \n",
    "  console.log(`At distance ${distance}, a fuel drop was found! Collected ${fuelCollected} fuel.`);\n",
    "  return currentFuel + fuelCollected;\n",
    "}\n",
    "\n",
    "if (selectedFuel > initialFuel) {\n",
    "  missionStatus = \"Mission failed. Not enough fuel!\";\n",
    "} else if (selectedFuel <= 0) {\n",
    "  missionStatus = \"Mission aborted. Fuel must be greater than zero.\";\n",
    "} else {\n",
    "\n",
    "  for (let i = 0; i < fuelDrops; i++) {\n",
    "   \n",
    "    distanceTraveled += selectedFuel / fuelConsumptionRate;\n",
    "    initialFuel -= selectedFuel;\n",
    "\n",
    "    \n",
    "    if (initialFuel <= 0) {\n",
    "      missionStatus = `Mission failed! The spaceship ran out of fuel after traveling ${distanceTraveled} units.`;\n",
    "      break;\n",
    "    }\n",
    "\n",
    "    \n",
    "    initialFuel = collectFuel(initialFuel, distanceTraveled);\n",
    "  }\n",
    "\n",
    "  \n",
    "  if (initialFuel > 0) {\n",
    "    missionStatus = `Mission successful! The spaceship ${spaceship} traveled ${distanceTraveled} units of distance. Remaining fuel: ${initialFuel}`;\n",
    "  }\n",
    "}\n",
    "\n",
    "console.log(`Spaceship: ${spaceship}`);\n",
    "console.log(`Fuel given: ${selectedFuel}`);\n",
    "console.log(`Distance traveled: ${distanceTraveled}`);\n",
    "console.log(`Remaining fuel: ${initialFuel}`);\n",
    "console.log(`Mission Status: ${missionStatus}`);"
   ]
  },
  {
   "cell_type": "markdown",
   "metadata": {},
   "source": [
    "In Level 2 homework for lesson 1, you filled in the blanks, however you may have noticed that most of the middle was given and may have been confused on how to get that information and make it. This will go step by step to explain how to apply the variables using the homework as an example."
   ]
  },
  {
   "cell_type": "code",
   "execution_count": null,
   "metadata": {
    "vscode": {
     "languageId": "javascript"
    }
   },
   "outputs": [],
   "source": [
    "function collectFuel(currentFuel, distance) {\n",
    "    let fuelCollected = Math.floor(Math.random() * 20) + 10; \n",
    "    console.log(`At distance ${distance}, a fuel drop was found! Collected ${fuelCollected} fuel.`);\n",
    "    return currentFuel + fuelCollected;\n",
    "  }"
   ]
  },
  {
   "cell_type": "markdown",
   "metadata": {},
   "source": [
    "- In this first bit of the homework, a function is created to create the addition of random fuel during the mission.\n",
    "- The second line is used to randomely generate an amount of fuel to add \n",
    "    - This ranges from 0 to 20; But the 10 makes the minimum fuel to be ten.\n",
    "- For base information, the math.random() chooses between the number and math.floor() rounds down to nearest whole number\n",
    "- The console.log returns a message to the console with the new information \n",
    "- the return updates fuel with the new amount"
   ]
  },
  {
   "cell_type": "code",
   "execution_count": null,
   "metadata": {
    "vscode": {
     "languageId": "javascript"
    }
   },
   "outputs": [],
   "source": [
    "if (selectedFuel > initialFuel) {\n",
    "    missionStatus = \"Mission failed. Not enough fuel!\";\n",
    "  } else if (selectedFuel <= 0) {\n",
    "    missionStatus = \"Mission aborted. Fuel must be greater than zero.\";\n",
    "  } else {\n",
    "    // Proceed to the mission loop\n",
    "  }\n",
    "  "
   ]
  },
  {
   "cell_type": "markdown",
   "metadata": {},
   "source": [
    "- This is else statement makes sure the starting conditions are valid.\n",
    "    - If thie conditions fail it stops further running of code\n",
    "- ##### Condition 1\n",
    "    - Checks if given fuel (selectedFuel) exceeds starting fuel (initialFuel)\n",
    "    - If true, mission fails\n",
    "- ##### Condition 2\n",
    "    - selectedFuel <= 0 makes sure the fuel is positive since 0/negative = failed. If true the mission is aborted\n",
    "    - If neither is true, then continues running (the else)"
   ]
  },
  {
   "cell_type": "code",
   "execution_count": null,
   "metadata": {
    "vscode": {
     "languageId": "javascript"
    }
   },
   "outputs": [],
   "source": [
    "for (let i = 0; i < fuelDrops; i++) {\n",
    "    distanceTraveled += selectedFuel / fuelConsumptionRate;\n",
    "    initialFuel -= selectedFuel;\n",
    "  \n",
    "    if (initialFuel <= 0) {\n",
    "      missionStatus = `Mission failed! The spaceship ran out of fuel after traveling ${distanceTraveled} units.`;\n",
    "      break;\n",
    "    }\n",
    "  \n",
    "    initialFuel = collectFuel(initialFuel, distanceTraveled);\n",
    "  }  "
   ]
  },
  {
   "cell_type": "markdown",
   "metadata": {},
   "source": [
    "- This code is used to run the mission by goes through the stages both we defined above (fuelDrops) and the variables.\n",
    "- \"distanceTraveled += selectedFuel / fuelConsumptionRate;\" calculates the distance the spaceshop travelse and adds it to distanceTraveled\n",
    "- \"initialFuel -= selectedFuel;\" subtracts the given fuel from the available fuel (initialFuel)\n",
    "- \"if (initialFuel <= 0)\" is the second fuel check and if the variable is 0/negative mission status updates to a failure and the break exits the loop\n",
    "- \"initialFuel = collectFuel(initialFuel, distanceTraveled);\" calls the collectFuel function from earlier to run\n"
   ]
  },
  {
   "cell_type": "code",
   "execution_count": null,
   "metadata": {
    "vscode": {
     "languageId": "javascript"
    }
   },
   "outputs": [],
   "source": [
    "if (initialFuel > 0) {\n",
    "    missionStatus = `Mission successful! The spaceship ${spaceship} traveled ${distanceTraveled} units of distance. Remaining fuel: ${initialFuel}`;\n",
    "  }\n",
    "\n",
    "console.log(`Spaceship: ${spaceship}`);\n",
    "console.log(`Fuel given: ${selectedFuel}`);\n",
    "console.log(`Distance traveled: ${distanceTraveled}`);\n",
    "console.log(`Remaining fuel: ${initialFuel}`);\n",
    "console.log(`Mission Status: ${missionStatus}`);"
   ]
  },
  {
   "cell_type": "markdown",
   "metadata": {},
   "source": [
    "This determines if the mission was succesful once the loop finishes.\n",
    "- if \"initialFuel > 0\", missionStatus is updated to showcase total distance traveled, remaining fuel, and spaceship name through \"console.log\""
   ]
  }
 ],
 "metadata": {
  "kernelspec": {
   "display_name": "base",
   "language": "python",
   "name": "python3"
  },
  "language_info": {
   "codemirror_mode": {
    "name": "ipython",
    "version": 3
   },
   "file_extension": ".py",
   "mimetype": "text/x-python",
   "name": "python",
   "nbconvert_exporter": "python",
   "pygments_lexer": "ipython3",
   "version": "3.12.7"
  }
 },
 "nbformat": 4,
 "nbformat_minor": 2
}
