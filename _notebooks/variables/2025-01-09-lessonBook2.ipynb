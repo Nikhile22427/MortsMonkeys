{
 "cells": [
  {
   "cell_type": "raw",
   "metadata": {
    "vscode": {
     "languageId": "raw"
    }
   },
   "source": [
    "---\n",
    "layout: post\n",
    "title: Lesson 2\n",
    "description: Now that you know the types of variables, let's see how they can be used in different real-world contexts.\n",
    "type: collab\n",
    "comments: false\n",
    "permalink: /variables/lessonBook2\n",
    "---"
   ]
  },
  {
   "cell_type": "markdown",
   "metadata": {},
   "source": [
    "Advanced Application of Variables \n",
    "(Normal people talk: Common Uses)"
   ]
  },
  {
   "cell_type": "markdown",
   "metadata": {},
   "source": [
    "<h2>How Can We Use Variables?</h2>\n",
    "<b1>\n",
    "Variables are useful in virtually every context. Do you want to store a dynamically changing value, like score or health? Use a variable. Want to contain messages that can contain changing pieces of information? Variables. Want to intentionally have empty values for later use (for whatever reason)? Variables.\n",
    "</b1>"
   ]
  },
  {
   "cell_type": "markdown",
   "metadata": {},
   "source": [
    "<b1>Score is a great example on how to use variables in an actual context. In this example, every time the program is run, the Score variable increments by 1.</b1>"
   ]
  },
  {
   "cell_type": "code",
   "execution_count": 13,
   "metadata": {
    "vscode": {
     "languageId": "javascript"
    }
   },
   "outputs": [
    {
     "data": {
      "application/javascript": "// Get the current score from localStorage, or set it to 0 if it doesn't exist\nlet score = parseInt(localStorage.getItem(\"score\")) || 0;\n\n// Increment the score\nscore += 1;\n\n// Save the updated score back to localStorage\nlocalStorage.setItem(\"score\", score);\n\n// Log the current score\nconsole.log(`Your score is now: ${score}`);\n",
      "text/plain": [
       "<IPython.core.display.Javascript object>"
      ]
     },
     "metadata": {},
     "output_type": "display_data"
    }
   ],
   "source": [
    "%%js\n",
    "// Get the current score from localStorage, or set it to 0 if it doesn't exist\n",
    "let score = parseInt(localStorage.getItem(\"score\")) || 0;\n",
    "\n",
    "// Increment the score\n",
    "score += 1;\n",
    "\n",
    "// Save the updated score back to localStorage\n",
    "localStorage.setItem(\"score\", score);\n",
    "\n",
    "// Log the current score\n",
    "console.log(`Your score is now: ${score}`);"
   ]
  }
 ],
 "metadata": {
  "kernelspec": {
   "display_name": "base",
   "language": "python",
   "name": "python3"
  },
  "language_info": {
   "codemirror_mode": {
    "name": "ipython",
    "version": 3
   },
   "file_extension": ".py",
   "mimetype": "text/x-python",
   "name": "python",
   "nbconvert_exporter": "python",
   "pygments_lexer": "ipython3",
   "version": "3.12.7"
  }
 },
 "nbformat": 4,
 "nbformat_minor": 2
}
