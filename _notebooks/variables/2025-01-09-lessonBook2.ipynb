{
 "cells": [
  {
   "cell_type": "raw",
   "metadata": {
    "vscode": {
     "languageId": "raw"
    }
   },
   "source": [
    "---\n",
    "layout: post\n",
    "title: Lesson 2\n",
    "description: Now that you know the types of variables, let's see how they can be used in different real-world contexts.\n",
    "type: collab\n",
    "comments: false\n",
    "---"
   ]
  },
  {
   "cell_type": "markdown",
   "metadata": {},
   "source": [
    "Advanced Application of Variables \n",
    "(Normal people talk: Common Uses)"
   ]
  },
  {
   "cell_type": "markdown",
   "metadata": {},
   "source": [
    "<h2>How Can We Use Variables?</h2>\n",
    "<b1>\n",
    "Variables are useful in virtually every context. Do you want to store a dynamically changing value, like score or health? Use a variable. Want to contain messages that can contain changing pieces of information? Variables. Want to intentionally have empty values for later use (for whatever reason)? Variables.\n",
    "</b1>"
   ]
  },
  {
   "cell_type": "markdown",
   "metadata": {},
   "source": [
    "<b1>Score is a great example on how to use variables in an actual context. In this example, there is a conditional that needs to be satisfied. When the criteria are met, the Score variable increments by 1.</b1>"
   ]
  },
  {
   "cell_type": "code",
   "execution_count": 1,
   "metadata": {
    "vscode": {
     "languageId": "javascript"
    }
   },
   "outputs": [
    {
     "data": {
      "application/javascript": "//defining our variables. score is a number, and coinCollected is a boolean.\nlet score = 0;\nlet coinCollected = false\nconsole.log(\"Press W to collect a coin!\")\nwindow.addEventListener(\"keypress\", function(event){\n    if(event.key == \"w\"){\n        coinCollected = true;\n    }else{\n        coinCollected = false;\n    }\n    //Above: Conditional to detect when W key is pressed. \n    //Don't worry about this too much, it just allows us to increment score by 1 every time wis pressed\n    if (coinCollected = true){\n        score += 1;\n    }\n    console.log(`Score: ${score}`);\n})\n",
      "text/plain": [
       "<IPython.core.display.Javascript object>"
      ]
     },
     "metadata": {},
     "output_type": "display_data"
    }
   ],
   "source": [
    "%%js\n",
    "//defining our variables. score is a number, and coinCollected is a boolean.\n",
    "let score = 0;\n",
    "let coinCollected = false\n",
    "console.log(\"Press W to collect a coin!\")\n",
    "window.addEventListener(\"keypress\", function(event){\n",
    "    if(event.key == \"w\"){\n",
    "        coinCollected = true;\n",
    "    }else{\n",
    "        coinCollected = false;\n",
    "    }\n",
    "    //Above: Conditional to detect when W key is pressed. \n",
    "    //Don't worry about this too much, it just allows us to increment score by 1 every time wis pressed\n",
    "    if (coinCollected = true){\n",
    "        score += 1;\n",
    "    }\n",
    "    console.log(`Score: ${score}`);\n",
    "})\n"
   ]
  }
 ],
 "metadata": {
  "kernelspec": {
   "display_name": "base",
   "language": "python",
   "name": "python3"
  },
  "language_info": {
   "codemirror_mode": {
    "name": "ipython",
    "version": 3
   },
   "file_extension": ".py",
   "mimetype": "text/x-python",
   "name": "python",
   "nbconvert_exporter": "python",
   "pygments_lexer": "ipython3",
   "version": "3.12.7"
  }
 },
 "nbformat": 4,
 "nbformat_minor": 2
}
