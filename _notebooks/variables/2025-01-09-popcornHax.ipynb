{
 "cells": [
  {
   "cell_type": "raw",
   "metadata": {
    "vscode": {
     "languageId": "raw"
    }
   },
   "source": [
    "---\n",
    "layout: post\n",
    "title: Popcorn Hax\n",
    "description: Exercises to do mid-lesson, when instructed. Designed to be fairly easy and help you apply a basic understanding of variables you should already have from the lesson.\n",
    "type: collab\n",
    "comments: false\n",
    "permalink: /variables/popcornHax\n",
    "---"
   ]
  },
  {
   "cell_type": "markdown",
   "metadata": {},
   "source": [
    "<h1>Popcorn Hax</h1>\n",
    "\n",
    "To access printed results using console.log, follow this simple set of steps.\n",
    "1: Access the \"Help\" button near the top of your screen (next to to \"Terminal\" and \"Window). It looks something like this on macOS:<br>\n",
    "<img width=\"844\" alt=\"image\" src=\"https://github.com/user-attachments/assets/18465a9b-e7e3-4f9d-8653-3ede47e2dfc6\" />\n",
    "<br>\n",
    "After clicking help, the drop-down menu should have a \"Toggle Developer Tools\" option. Click it, and navigate to the console menu.\n",
    "Then, look for a little O with a line through it. Click this to clear the console.\n",
    "<h2>Exercise 1:</h2><br>\n",
    "Define a variable \"charHealth\" as an integer value of 100. Then, run a command to print the value and type of charHealth.\n"
   ]
  },
  {
   "cell_type": "code",
   "execution_count": 1,
   "metadata": {
    "vscode": {
     "languageId": "javascript"
    }
   },
   "outputs": [
    {
     "data": {
      "application/javascript": "//On this line, define charHealth.\n\n//Run the command to print charHealth's value here.\n\n//Run the command to check the type of variable here.\n",
      "text/plain": [
       "<IPython.core.display.Javascript object>"
      ]
     },
     "metadata": {},
     "output_type": "display_data"
    }
   ],
   "source": [
    "%%js\n",
    "//On this line, define charHealth.\n",
    "\n",
    "//Run the command to print charHealth's value here.\n",
    "\n",
    "//Run the command to check the type of variable here."
   ]
  },
  {
   "cell_type": "markdown",
   "metadata": {},
   "source": [
    "<h2>Exercise 2:</h2><br>\n",
    "Define two variables: \"charHealth\" and \"damage\". Then, combine the two to update charHealth. Make sure they are the same type of variable - otherwise, you will not be able to combine them."
   ]
  },
  {
   "cell_type": "code",
   "execution_count": 4,
   "metadata": {
    "vscode": {
     "languageId": "javascript"
    }
   },
   "outputs": [
    {
     "data": {
      "application/javascript": "//Define variables up here. Make sure they are both number values.\nlet charHealth = 100.0;\nconst damage = 13.5;\n//Update charHealth after the player has taken damage. The character should lose health relative to damage taken.\ncharHealth -= damage;\nconsole.log(charHealth);\n",
      "text/plain": [
       "<IPython.core.display.Javascript object>"
      ]
     },
     "metadata": {},
     "output_type": "display_data"
    }
   ],
   "source": [
    "%%js\n",
    "//Define variables up here. Make sure they are both number values.\n",
    "let charHealth = 100.0;\n",
    "const damage = 13.5;\n",
    "//Update charHealth after the player has taken damage. The character should lose health relative to damage taken. Print your results.\n",
    "charHealth -= damage;\n",
    "console.log(charHealth);"
   ]
  },
  {
   "cell_type": "markdown",
   "metadata": {},
   "source": [
    "<h2>Exercise 3:</h2><br>\n",
    "Create two parts of a message, and store each part as a separate variable. Combine these variables into a new one, finalMessage, and print its results."
   ]
  },
  {
   "cell_type": "code",
   "execution_count": 2,
   "metadata": {
    "vscode": {
     "languageId": "javascript"
    }
   },
   "outputs": [
    {
     "data": {
      "application/javascript": "//Define variables and combine them here\nlet msg1 = \"Hello, world!\";\nlet msg2 = \", world!\";\nlet finalMessage = msg1 - msg2;\n//Print results here.\nconsole.log(finalMessage);\n",
      "text/plain": [
       "<IPython.core.display.Javascript object>"
      ]
     },
     "metadata": {},
     "output_type": "display_data"
    }
   ],
   "source": [
    "%%js\n",
    "//Define variables and combine them here\n",
    "let messagePart1 = \n",
    "let messagePart2 = \n",
    "let finalMessage = \n",
    "//Print results here.\n",
    "console.log();//Insert variable"
   ]
  },
  {
   "cell_type": "markdown",
   "metadata": {},
   "source": [
    "<b1>\n",
    "Make sure to end each line with a semicolon (;). \n",
    "<br>Part 2: Using this if conditional, see if you can get the console to output \"You have successfully manipulated these strings! Good Job!\" If you fail, it will tell you.\n",
    "</b1>"
   ]
  },
  {
   "cell_type": "code",
   "execution_count": 1,
   "metadata": {
    "vscode": {
     "languageId": "javascript"
    }
   },
   "outputs": [
    {
     "data": {
      "application/javascript": "let m1 = \"Hello, \";\nlet m2 = \"\"; //Edit this \nif (){\n    \n}\n",
      "text/plain": [
       "<IPython.core.display.Javascript object>"
      ]
     },
     "metadata": {},
     "output_type": "display_data"
    }
   ],
   "source": [
    "%%js\n",
    "let m1 = \"Hello, \";\n",
    "let m2 = \"\"; //Edit this \n",
    "const messageSuccess = \"You have successfully manipulated these strings! Good Job!\"\n",
    "if (m1 + m2 === \"Hello, world!\"){\n",
    "    console.log(messageSuccess);\n",
    "} else {\n",
    "    console.log(\"Failed to match strings. Try again.\");\n",
    "}"
   ]
  },
  {
   "cell_type": "markdown",
   "metadata": {},
   "source": [
    "Lastly, here's a quick way to learn the difference between =, ==, and ===."
   ]
  },
  {
   "cell_type": "code",
   "execution_count": 6,
   "metadata": {
    "vscode": {
     "languageId": "javascript"
    }
   },
   "outputs": [
    {
     "data": {
      "application/javascript": "let m1 = \"1\"; //Note the data types present in these two variables. This is a string.\nlet m2 = 1; //This is a number.\nconsole.log();\n//Use a loose equality and see what the computer thinks about m1 and m2.\nconsole.log();\n//Use a strict equality and see what the computer says. Why are your results different?\n",
      "text/plain": [
       "<IPython.core.display.Javascript object>"
      ]
     },
     "metadata": {},
     "output_type": "display_data"
    }
   ],
   "source": [
    "%%js\n",
    "let m1 = \"1\"; //Note the data types present in these two variables. This is a string.\n",
    "let m2 = 1; //This is a number.\n",
    "console.log();\n",
    "//Use a loose equality and see what the computer thinks about m1 and m2.\n",
    "console.log();\n",
    "//Use a strict equality and see what the computer says. Why are your results different?"
   ]
  },
  {
   "cell_type": "markdown",
   "metadata": {},
   "source": [
    "<h2>Exercise 4:</h2>\n",
    "<br>\n",
    "<b1>\n",
    "Here, a Math.random function creates a number from 0 to 1. Using the conditional set up for you and your knowledge of booleans, create a system that checks if the number created is greater than 0.7.\n",
    "<b1>"
   ]
  },
  {
   "cell_type": "code",
   "execution_count": 20,
   "metadata": {
    "vscode": {
     "languageId": "javascript"
    }
   },
   "outputs": [
    {
     "data": {
      "application/javascript": "//Define your variables. \nlet isGreaterThan = false; //by default, this is false. That means if you don't change it, it will stay false.\nlet randomNum = Math.random();\nif (randomNum > 0.7) { //Put something in the parentheses to check if the random number is over 0.7.\n    isGreaterThan = true;\n} \nconsole.log(isGreaterThan); //Outputs the value of isGreaterThan\n",
      "text/plain": [
       "<IPython.core.display.Javascript object>"
      ]
     },
     "metadata": {},
     "output_type": "display_data"
    }
   ],
   "source": [
    "%%js\n",
    "//Define your variables. \n",
    "let isGreaterThan = false; //By default, this is false. That means if the program doesn't change it, it will stay false and output false\n",
    "let randomNum = Math.random();\n",
    "if (randomNum > 0.7) { //Put something in the parentheses to check if the random number is over 0.7.\n",
    "    isGreaterThan = true;\n",
    "} \n",
    "console.log(isGreaterThan); //Outputs the value of isGreaterThan\n",
    "\n",
    "//Run this a few times, and see if you get a mix of true and false outputs.\n"
   ]
  },
  {
   "cell_type": "markdown",
   "metadata": {},
   "source": [
    "<h2>Exercise 5:</h2>\n",
    "<br>\n",
    "<b1>\n",
    "Fix this code to correctly output the type of data message1 is.<br><br>In code, undefined and null are not used intentionally very often. This exercise is an example on why it is useful: since message1 is not defined, you can check this with console.log(). If this results in an undefined output, you can go change the variable to be correctly defined.\n",
    "<b1>"
   ]
  },
  {
   "cell_type": "code",
   "execution_count": 26,
   "metadata": {
    "vscode": {
     "languageId": "javascript"
    }
   },
   "outputs": [
    {
     "data": {
      "application/javascript": "let message1;\nconsole.log(message1);\nconsole.log(typeof message1);\n",
      "text/plain": [
       "<IPython.core.display.Javascript object>"
      ]
     },
     "metadata": {},
     "output_type": "display_data"
    }
   ],
   "source": [
    "%%js\n",
    "//This is a very open-ended exercise. What type of variable to you want message1 to be? Depending on your answer, you will define message1 differently.\n",
    "let message1; //Change this.\n",
    "console.log(message1);\n",
    "console.log(typeof message1);"
   ]
  },
  {
   "cell_type": "markdown",
   "metadata": {},
   "source": [
    "<h2>Exercise 6:</h2>\n",
    "<br>\n",
    "<b1>\n",
    "Create a bigInt with a value of your choosing. Check to make sure it's a big enough number. The highest number in JS is 9007199254740990, and can be referenced with the property Number.MAX_SAFE_INTEGER.</b1>"
   ]
  },
  {
   "cell_type": "code",
   "execution_count": 29,
   "metadata": {
    "vscode": {
     "languageId": "javascript"
    }
   },
   "outputs": [
    {
     "data": {
      "application/javascript": "let bigNumber = //Pick a big number!\nlet x = Number.MAX_SAFE_INTEGER;\nconsole.log(bigNumber > x); //Checks to make sure your number is big enough. True = yes.\nconsole.log(bigNumber)\n",
      "text/plain": [
       "<IPython.core.display.Javascript object>"
      ]
     },
     "metadata": {},
     "output_type": "display_data"
    }
   ],
   "source": [
    "%%js\n",
    "let bigNumber = //Pick a big number!\n",
    "let x = Number.MAX_SAFE_INTEGER;\n",
    "console.log(bigNumber > x); //Checks to make sure your number is big enough. True = yes.\n",
    "console.log(bigNumber)"
   ]
  },
  {
   "cell_type": "markdown",
   "metadata": {},
   "source": [
    "<h2>Exercise 7:</h2>\n",
    "<br>\n",
    "<b1>\n",
    "Create a \"player\" object with as many properties as you can think of. A minimum of 5 properties and at least 3 different types of variables must be used to complete this exercise.<br><br>After this, print 2 of those variables. One has already been done for you, and the other started. Lastly, change the player's health and print it again.</b1>"
   ]
  },
  {
   "cell_type": "code",
   "execution_count": 32,
   "metadata": {
    "vscode": {
     "languageId": "javascript"
    }
   },
   "outputs": [
    {
     "data": {
      "application/javascript": "//A few variables are included for you already, fill the rest in on your own.\nlet player = {\n    name: \"pika43\",\n    health: 25\n\n\n\n};\n//Reference your parts here.\nconsole.log(player);\nconsole.log();\n//Change and reference player's health\nplayer.health = 20;\nconsole.log(player.health);\n",
      "text/plain": [
       "<IPython.core.display.Javascript object>"
      ]
     },
     "metadata": {},
     "output_type": "display_data"
    }
   ],
   "source": [
    "%%js\n",
    "//A few variables are included for you already, fill the rest in on your own.\n",
    "let player = {\n",
    "    name: \"pika43\", //Replace with your name/gamertag.\n",
    "    health: 25 //commas between every term, except the last one.\n",
    "\n",
    "\n",
    "\n",
    "};\n",
    "//Reference your parts here.\n",
    "console.log(player.name);\n",
    "console.log(player.);//Put something after the period to reference it from the object, player.\n",
    "\n",
    "\n",
    "//Change and reference player's health\n",
    "player.health = ;\n",
    "console.log(player.health); //new health "
   ]
  },
  {
   "cell_type": "markdown",
   "metadata": {},
   "source": [
    "<h2>Exercise 8:</h2>\n",
    "<br>\n",
    "<b1>\n",
    "Create a \"user\" object with a password variable as a symbol. Other than that, customize the object similarly to the previous exercise (Minimum of 5 variables, minimum of 3 types). There's a nifty little bonus at the bottom of this exercise which shows the power of symbols.\n",
    "</b1>"
   ]
  },
  {
   "cell_type": "code",
   "execution_count": 40,
   "metadata": {
    "vscode": {
     "languageId": "javascript"
    }
   },
   "outputs": [
    {
     "data": {
      "application/javascript": "const password = Symbol(); //Defines the password symbol. It's okay to leave his empty, as you will assign the symbol a value in the object.\nconst backupPassword = Symbol(); //\nlet user ={\n    [password]: \"epicC0ding1234\", //Assign the symbol a value here. \n    [password]: \"epicC0ding1234\", //Assign your backup password a value. Make this the same as your default password.\n\n    username: \"pika43\" //Fill in the rest of the object's properties. Replace this username with your own.\n\n}\n//Referencing symbols looks like this:\nconsole.log(user[password]);\n//This outputs the value of \"password\" you assigned earlier.\n\nconsole.log(\"v THE POWER OF SYMBOLS v\"); //THE POWER OF SYMBOLS\n\nconst enemy1Damage = 15;\nconst enemy2MaxHealth = 15;\nconsole.log (enemy1Damage === enemy2MaxHealth);\n//This will output true, since both variables are numbers with the same value. \n//With constants that are used for different reasons, this can be a problem. \n//You wouldn't subtract an enemy's max health from your to deal damage! What if you need these two to be unique?\n\nconsole.log(password === backupPassword);\n//This, surprisingly, will output false. This is because each of these symbols are fully, entirely unique. \n// Even though both are symbol type variables with the same value stored inside them, the computer recognizes these both as fi\n",
      "text/plain": [
       "<IPython.core.display.Javascript object>"
      ]
     },
     "metadata": {},
     "output_type": "display_data"
    }
   ],
   "source": [
    "%%js \n",
    "const password = Symbol(); //Defines the password symbol. It's okay to leave his empty, as you will assign the symbol a value in the object.\n",
    "const backupPassword = Symbol(); //\n",
    "let user ={\n",
    "    [password]:  //Assign the symbol a value here. \n",
    "    [backupPassword]:  //Assign your backup password a value. Make this the same as your default password.\n",
    "    username: \"pika43\" //Fill in the rest of the object's properties. Replace this username with your own.\n",
    "\n",
    "}\n",
    "//Referencing symbols looks like this:\n",
    "console.log(user[password]);\n",
    "//This outputs the value of \"password\" you assigned earlier.\n",
    "\n",
    "//Bonus!\n",
    "console.log(\"v THE POWER OF SYMBOLS v\"); //THE POWER OF SYMBOLS\n",
    "\n",
    "const enemy1Damage = 15;\n",
    "const enemy2MaxHealth = 15;\n",
    "console.log (enemy1Damage === enemy2MaxHealth);\n",
    "//This will output true, since both variables are numbers with the same value. \n",
    "//With constants that are used for different reasons, this can be a problem. \n",
    "//You wouldn't subtract an enemy's max health from your to deal damage! What if you need these two to be unique?\n",
    "\n",
    "console.log(password === backupPassword);\n",
    "//This, surprisingly, will output false. This is because each of these symbols are fully, entirely unique. \n",
    "// Even though both are symbol type variables with the same value stored inside them, the computer recognizes these both as fi"
   ]
  }
 ],
 "metadata": {
  "kernelspec": {
   "display_name": "test2",
   "language": "python",
   "name": "python3"
  },
  "language_info": {
   "codemirror_mode": {
    "name": "ipython",
    "version": 3
   },
   "file_extension": ".py",
   "mimetype": "text/x-python",
   "name": "python",
   "nbconvert_exporter": "python",
   "pygments_lexer": "ipython3",
   "version": "3.13.1"
  }
 },
 "nbformat": 4,
 "nbformat_minor": 2
}
