{
 "cells": [
  {
   "cell_type": "raw",
   "metadata": {
    "vscode": {
     "languageId": "raw"
    }
   },
   "source": [
    "---\n",
    "layout: post\n",
    "title: Popcorn Hax\n",
    "description: Exercises to do mid-lesson, when instructed. Designed to be fairly easy and help you apply a basic understanding of variables you should already have from the lesson.\n",
    "type: collab\n",
    "comments: false\n",
    "permalink: /variables/popcornHax\n",
    "---"
   ]
  },
  {
   "cell_type": "markdown",
   "metadata": {},
   "source": [
    "<h1>Popcorn Hax</h1>\n",
    "\n",
    "To access printed results using console.log, follow this simple set of steps.\n",
    "1: Access the \"Help\" button near the top of your screen (next to to \"Terminal\" and \"Window). It looks something like this on macOS:<br>\n",
    "<img width=\"844\" alt=\"image\" src=\"https://github.com/user-attachments/assets/18465a9b-e7e3-4f9d-8653-3ede47e2dfc6\" />\n",
    "<br>\n",
    "After clicking help, the drop-down menu should have a \"Toggle Developer Tools\" option. Click it, and navigate to the console menu.\n",
    "Then, look for a little O with a line through it. Click this to clear the console.\n",
    "<h2>Exercise 1:</h2><br>\n",
    "Define a variable \"charHealth\" as an integer value of 100. Then, run a command to print the value and type of charHealth.\n"
   ]
  },
  {
   "cell_type": "code",
   "execution_count": 1,
   "metadata": {
    "vscode": {
     "languageId": "javascript"
    }
   },
   "outputs": [
    {
     "data": {
      "application/javascript": "//On this line, define charHealth.\n\n//Run the command to print charHealth's value here.\n\n//Run the command to check the type of variable here.\n",
      "text/plain": [
       "<IPython.core.display.Javascript object>"
      ]
     },
     "metadata": {},
     "output_type": "display_data"
    }
   ],
   "source": [
    "%%js\n",
    "//On this line, define charHealth.\n",
    "\n",
    "//Run the command to print charHealth's value here.\n",
    "\n",
    "//Run the command to check the type of variable here."
   ]
  },
  {
   "cell_type": "markdown",
   "metadata": {},
   "source": [
    "<h2>Exercise 2:</h2><br>\n",
    "Define two variables: \"charHealth\" and \"damage\". Then, combine the two to update charHealth. Make sure they are the same type of variable - otherwise, you will not be able to combine them."
   ]
  },
  {
   "cell_type": "code",
   "execution_count": 4,
   "metadata": {
    "vscode": {
     "languageId": "javascript"
    }
   },
   "outputs": [
    {
     "data": {
      "application/javascript": "//Define variables up here. Make sure they are both number values.\nlet charHealth = 100.0;\nconst damage = 13.5;\n//Update charHealth after the player has taken damage. The character should lose health relative to damage taken.\ncharHealth -= damage;\nconsole.log(charHealth);\n",
      "text/plain": [
       "<IPython.core.display.Javascript object>"
      ]
     },
     "metadata": {},
     "output_type": "display_data"
    }
   ],
   "source": [
    "%%js\n",
    "//Define variables up here. Make sure they are both number values.\n",
    "let charHealth = 100.0;\n",
    "const damage = 13.5;\n",
    "//Update charHealth after the player has taken damage. The character should lose health relative to damage taken. Print your results.\n",
    "charHealth -= damage;\n",
    "console.log(charHealth);"
   ]
  },
  {
   "cell_type": "markdown",
   "metadata": {},
   "source": [
    "<h2>Exercise 3:</h2><br>\n",
    "Create two parts of a message, and store each part as a separate variable. Combine these variables into a new one, finalMessage, and print its results."
   ]
  },
  {
   "cell_type": "code",
   "execution_count": 2,
   "metadata": {
    "vscode": {
     "languageId": "javascript"
    }
   },
   "outputs": [
    {
     "data": {
      "application/javascript": "//Define variables and combine them here\nlet msg1 = \"Hello, world!\";\nlet msg2 = \", world!\";\nlet finalMessage = msg1 - msg2;\n//Print results here.\nconsole.log(finalMessage);\n",
      "text/plain": [
       "<IPython.core.display.Javascript object>"
      ]
     },
     "metadata": {},
     "output_type": "display_data"
    }
   ],
   "source": [
    "%%js\n",
    "//Define variables and combine them here\n",
    "let messagePart1 = \n",
    "let messagePart2 = \n",
    "let finalMessage = \n",
    "//Print results here.\n",
    "console.log();"
   ]
  }
 ],
 "metadata": {
  "kernelspec": {
   "display_name": "test2",
   "language": "python",
   "name": "python3"
  },
  "language_info": {
   "codemirror_mode": {
    "name": "ipython",
    "version": 3
   },
   "file_extension": ".py",
   "mimetype": "text/x-python",
   "name": "python",
   "nbconvert_exporter": "python",
   "pygments_lexer": "ipython3",
   "version": "3.13.1"
  }
 },
 "nbformat": 4,
 "nbformat_minor": 2
}
