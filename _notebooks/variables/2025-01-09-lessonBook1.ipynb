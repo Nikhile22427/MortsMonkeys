{
 "cells": [
  {
   "cell_type": "markdown",
   "metadata": {},
   "source": [
    "\n",
    "<style>\n",
    "    p {\n",
    "        text-color: white;\n",
    "    }\n",
    "</style>"
   ]
  },
  {
   "cell_type": "raw",
   "metadata": {
    "vscode": {
     "languageId": "raw"
    }
   },
   "source": [
    "---\n",
    "layout: post\n",
    "title: Learning Habits\n",
    "description: Establishing pair programming habits in the classroom.  This will extend to other forms of collaboration, such as group work and team projects. \n",
    "type: collab\n",
    "comments: true\n",
    "---"
   ]
  },
  {
   "cell_type": "code",
   "execution_count": null,
   "metadata": {
    "vscode": {
     "languageId": "javascript"
    }
   },
   "outputs": [],
   "source": []
  },
  {
   "cell_type": "markdown",
   "metadata": {},
   "source": [
    "# What is a Variable?"
   ]
  },
  {
   "cell_type": "markdown",
   "metadata": {},
   "source": [
    "Variables are labeled containers that store values, such as numbers or strings. They are defined by the programmer and can be accessed and, in most cases, changed throughout the code of the program. Some examples of variable usage are:\n",
    "<ul>\n",
    "    <li>\n",
    "    Keeping scores in video games (Ex: score = 10)\n",
    "    </li>\n",
    "    <li>\n",
    "    Storing user-inputted text (Ex: message = \"Hello!\")\n",
    "    </li>\n",
    "    <li>\n",
    "    Keeping track of positions (Ex: playerX = 0)\n",
    "    </li>\n",
    "</ul>\n",
    "Since many values need to change during a program runs, variables are extremely useful in all programming applications.\n",
    "\n",
    "> Simplifying the yap: Variables are labeled containers that store values in code. They can be accessed and manipulated throughout the program and are extremely important in programming.\n"
   ]
  },
  {
   "cell_type": "markdown",
   "metadata": {},
   "source": [
    "# Types of variables"
   ]
  },
  {
   "cell_type": "markdown",
   "metadata": {},
   "source": [
    "<h2>Numbers:</h2>\n",
    "In many programming languages, numbers are broken down into two types: integers and floating-points. Integers are low-memory and refer to any whole number (Ex. 1, 14, or -57). Floating-point numbers take up more memory, but can store any number (Ex. 1.567, 8, 3.14159). In Javascript, all numbers are reffered to simple as \"Number\", meaning there is no difference between floats and integers.\n",
    "\n",
    "<h3>Example</h3>"
   ]
  },
  {
   "cell_type": "code",
   "execution_count": 6,
   "metadata": {
    "vscode": {
     "languageId": "javascript"
    }
   },
   "outputs": [
    {
     "data": {
      "application/javascript": "let Score = 25; //Sets a variable called \"Score\" to 25\nconsole.log(Score); //Prints the \"Score\" variable's value in the browser's console (will output \"25\")\nScore += 10; //Increases Score by 10\n",
      "text/plain": [
       "<IPython.core.display.Javascript object>"
      ]
     },
     "metadata": {},
     "output_type": "display_data"
    }
   ],
   "source": [
    "%%js\n",
    "let Score = 25; //Sets a variable called \"Score\" to 25\n",
    "console.log(Score); //Prints the \"Score\" variable's value in the browser's console (will output \"25\")\n",
    "Score += 10; //Increases Score by 10"
   ]
  },
  {
   "cell_type": "markdown",
   "metadata": {},
   "source": [
    "Strings: text that is marked with quotation mark"
   ]
  }
 ],
 "metadata": {
  "kernelspec": {
   "display_name": "test2",
   "language": "python",
   "name": "python3"
  },
  "language_info": {
   "codemirror_mode": {
    "name": "ipython",
    "version": 3
   },
   "file_extension": ".py",
   "mimetype": "text/x-python",
   "name": "python",
   "nbconvert_exporter": "python",
   "pygments_lexer": "ipython3",
   "version": "3.13.1"
  }
 },
 "nbformat": 4,
 "nbformat_minor": 2
}
