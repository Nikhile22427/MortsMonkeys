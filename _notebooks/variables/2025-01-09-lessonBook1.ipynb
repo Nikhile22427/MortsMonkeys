{
 "cells": [
  {
   "cell_type": "markdown",
   "metadata": {},
   "source": [
    "\n",
    "<style>\n",
    "    p {\n",
    "        text-color: white;\n",
    "    }\n",
    "</style>"
   ]
  },
  {
   "cell_type": "raw",
   "metadata": {
    "vscode": {
     "languageId": "raw"
    }
   },
   "source": [
    "---\n",
    "layout: post\n",
    "title: Lesson 1\n",
    "description: What are variables? What types of variables are there? what do they do? This lesson will help you find out.\n",
    "type: collab\n",
    "comments: false\n",
    "permalink: /variables/lessonBook1\n",
    "---"
   ]
  },
  {
   "cell_type": "markdown",
   "metadata": {},
   "source": [
    "# What is a Variable?"
   ]
  },
  {
   "cell_type": "markdown",
   "metadata": {},
   "source": [
    "Variables are labeled containers that store values, such as numbers or strings. They are defined by the programmer and can be accessed and, in most cases, changed throughout the code of the program. Some examples of variable usage are:\n",
    "<ul>\n",
    "    <li>\n",
    "    Keeping scores in video games (Ex: score = 10)\n",
    "    </li>\n",
    "    <li>\n",
    "    Storing user-inputted text (Ex: message = \"Hello!\")\n",
    "    </li>\n",
    "    <li>\n",
    "    Keeping track of positions (Ex: playerX = 0)\n",
    "    </li>\n",
    "</ul>\n",
    "Since many values need to change during a program runs, variables are extremely useful in all programming applications.\n",
    "\n",
    "> Simplifying the yap: Variables are labeled containers that store values in code. They can be accessed and manipulated throughout the program and are extremely important in programming.\n"
   ]
  },
  {
   "cell_type": "markdown",
   "metadata": {},
   "source": [
    "# Types of variables"
   ]
  },
  {
   "cell_type": "markdown",
   "metadata": {},
   "source": [
    "<h2>Numbers:</h2>\n",
    "In many programming languages, numbers are broken down into two types: integers and floating-points. Integers are low-memory and refer to any whole number (Ex. 1, 14, or -57). Floating-point numbers take up more memory, but can store any number (Ex. 1.567, 8, 3.14159). <strong>In Javascript, all numbers are reffered to simple as \"Number\", meaning there is no difference between floats and integers.</strong>\n",
    "\n",
    "<h3>Example</h3>"
   ]
  },
  {
   "cell_type": "code",
   "execution_count": 14,
   "metadata": {
    "vscode": {
     "languageId": "javascript"
    }
   },
   "outputs": [
    {
     "data": {
      "application/javascript": "let Score = 25; //Sets a variable called \"Score\" to 25\nconsole.log(Score); //Prints the \"Score\" variable's value in the browser's console (will output \"25\")\nScore += 10; //Increases Score by 10\n",
      "text/plain": [
       "<IPython.core.display.Javascript object>"
      ]
     },
     "metadata": {},
     "output_type": "display_data"
    }
   ],
   "source": [
    "%%js\n",
    "let Score = 25; //Sets a variable called \"Score\" to 25\n",
    "console.log(Score); //Prints the \"Score\" variable's value in the browser's console (will output \"25\")\n",
    "Score += 10; //Increases Score by 10"
   ]
  },
  {
   "cell_type": "markdown",
   "metadata": {},
   "source": [
    "<h2>Strings</h2>\n",
    "    Strings are the primary method of storing non-number text in Javascript. <strong>Strings are marked with quotation marks at the beginning and end of the text</strong> (Ex. \"This is a string!\"). You can also use apostrophes (Ex. 'This is also a string!') or graves (Ex. `This string can be escaped!`).\"\n",
    "    <br>\n",
    "    <br>\n",
    "    Strings using quotations are the same as strings using apostrophes, and the type you use is usually up to personal preferences (there are some situations where you need apostrophes, but these are not very common). <strong>Strings can be combined using the \"+\" operator </strong>(Ex. console.log(\"This is a\" + \"string!\") will output \"This is a string!\").\n",
    "    <br>\n",
    "    <br>\n",
    "    <strong>Strings using graves can be escaped using the \"${}\" operator.</strong> This is useful when integrating other variables into strings (Ex. `Score: ${score}`).\n",
    "    <br>\n",
    "    <h3>Example</h3>"
   ]
  },
  {
   "cell_type": "code",
   "execution_count": 15,
   "metadata": {
    "vscode": {
     "languageId": "javascript"
    }
   },
   "outputs": [
    {
     "data": {
      "application/javascript": "let username = \"pika43\"; //Makes a string variable for the user's name\nlet friendName = 'TheNumber1Gamer'; //Makes another string variable for the user's friend's name\nlet score = 15; //Makes a number variable for the user's score\n\nconsole.log(`The user ${username} has defeated ${friendName} and gained ${score} score.`); //Will output \"The user pika43 has defeated TheNumber1Gamer and gained 15 score.\"\n//The ${username} operator inserts the variable's value into the string and only works in strings using graves (`` instead of \"\" or '')\n",
      "text/plain": [
       "<IPython.core.display.Javascript object>"
      ]
     },
     "metadata": {},
     "output_type": "display_data"
    }
   ],
   "source": [
    "%%js\n",
    "let username = \"pika43\"; //Makes a string variable for the user's name\n",
    "let friendName = 'TheNumber1Gamer'; //Makes another string variable for the user's friend's name\n",
    "let score = 15; //Makes a number variable for the user's score\n",
    "\n",
    "console.log(`The user ${username} has defeated ${friendName} and gained ${score} score.`); //Will output \"The user pika43 has defeated TheNumber1Gamer and gained 15 score.\"\n",
    "//The ${username} operator inserts the variable's value into the string and only works in strings using graves (`` instead of \"\" or '')"
   ]
  },
  {
   "cell_type": "markdown",
   "metadata": {},
   "source": [
    "<h2>Booleans</h2>\n",
    "Booleans are simple true or false values. They cannot store text or numbers and are only used as conditions. Booleans are either defined as variables (Ex. let online = true;) <strong>or outputted from comparisons using the \"==\", \"<\", \">\", \"<=\", \">=\", or \"!\" operators.</strong> Although they are very simple, booleans are a very important part of programming.\n",
    "<br>\n",
    "<h3>Example<h3>"
   ]
  },
  {
   "cell_type": "code",
   "execution_count": 16,
   "metadata": {
    "vscode": {
     "languageId": "javascript"
    }
   },
   "outputs": [
    {
     "data": {
      "application/javascript": "let number1 = Math.random(); //Sets \"number1\" to a number between 0 and 1\nlet number2 = Math.random(); //Sets \"number2\" to a different number between 0 and 1\nlet checkEquation = number1 < number2; //This will set the checkEquation variable to a boolean. If number1 is less than number2, checkEquation will be set to true. Otherwise, it will be false.\n\nconsole.log(checkEquation); //Will output \"true\" if number1 is less than number2 or \"false\" if number1 is not less than number2.\n\nif(checkEquation){ //This is an \"if\" statement, the largest use of booleans. If the boolean inside the parentheses is true, the code inside te statement will run.\n    console.log(\"number1 is less than number2!\");\n}else{\n    console.log(\"number2 is less than number1!\");\n}\n",
      "text/plain": [
       "<IPython.core.display.Javascript object>"
      ]
     },
     "metadata": {},
     "output_type": "display_data"
    }
   ],
   "source": [
    "%%js\n",
    "let number1 = Math.random(); //Sets \"number1\" to a number between 0 and 1\n",
    "let number2 = Math.random(); //Sets \"number2\" to a different number between 0 and 1\n",
    "let checkEquation = number1 < number2; //This will set the checkEquation variable to a boolean. If number1 is less than number2, checkEquation will be set to true. Otherwise, it will be false.\n",
    "\n",
    "console.log(checkEquation); //Will output \"true\" if number1 is less than number2 or \"false\" if number1 is not less than number2.\n",
    "\n",
    "if(checkEquation){ //This is an \"if\" statement, the largest use of booleans. If the boolean inside the parentheses is true, the code inside te statement will run.\n",
    "    console.log(\"number1 is less than number2!\");\n",
    "}else{\n",
    "    console.log(\"number2 is less than number1!\");\n",
    "}"
   ]
  },
  {
   "cell_type": "markdown",
   "metadata": {},
   "source": [
    "<h2>Undefined</h2>\n",
    "When a variable does not have an assigned value, it will show up as \"undefined\" whenever it is used. Intentional permanent usage of undefined values is not very common, as they tend to cause errors, and placeholder values are more common.\n",
    "<br>\n",
    "<h3>Example</h3>"
   ]
  },
  {
   "cell_type": "code",
   "execution_count": 17,
   "metadata": {
    "vscode": {
     "languageId": "javascript"
    }
   },
   "outputs": [
    {
     "data": {
      "application/javascript": "let password; //Declares a variable called \"password\" but does not assign it a value. Because no value was assigned, it automatically gets an undefined value.\nconsole.log(password); //This will output \"undefined\" since \"password\" has no value.\npassword = 12345; //Gives \"password\" a value\nconsole.log(password); //This will output \"password\"'s new value, \"12345\"\n",
      "text/plain": [
       "<IPython.core.display.Javascript object>"
      ]
     },
     "metadata": {},
     "output_type": "display_data"
    }
   ],
   "source": [
    "%%js\n",
    "let password; //Declares a variable called \"password\" but does not assign it a value. Because no value was assigned, it automatically gets an undefined value.\n",
    "console.log(password); //This will output \"undefined\" since \"password\" has no value.\n",
    "password = 12345; //Gives \"password\" a value\n",
    "console.log(password); //This will output \"password\"'s new value, \"12345\""
   ]
  },
  {
   "cell_type": "markdown",
   "metadata": {},
   "source": [
    "<h2>Null</h2>\n",
    "Null is like undefined's brother. The two are very similar, with the main difference being that null represents variables that do not exist at all while undefined represents the value of variables with no assigned value. Null is rarely used, but can be useful in specific cases.\n",
    "<br>\n",
    "<h3>Example</h3>"
   ]
  },
  {
   "cell_type": "code",
   "execution_count": null,
   "metadata": {
    "vscode": {
     "languageId": "javascript"
    }
   },
   "outputs": [],
   "source": []
  }
 ],
 "metadata": {
  "kernelspec": {
   "display_name": "Python 3",
   "language": "python",
   "name": "python3"
  },
  "language_info": {
   "codemirror_mode": {
    "name": "ipython",
    "version": 3
   },
   "file_extension": ".py",
   "mimetype": "text/x-python",
   "name": "python",
   "nbconvert_exporter": "python",
   "pygments_lexer": "ipython3",
   "version": "3.11.9"
  }
 },
 "nbformat": 4,
 "nbformat_minor": 2
}
