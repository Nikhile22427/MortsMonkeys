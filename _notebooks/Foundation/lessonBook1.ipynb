{
 "cells": [
  {
   "cell_type": "markdown",
   "metadata": {},
   "source": [
    "the skibidi toiled skibidies all toilet long"
   ]
  },
  {
   "cell_type": "markdown",
   "metadata": {},
   "source": [
    "Outline for the lesson:\n",
    "\n",
    "1: What is a variable?\n",
    "\n",
    "2: common uses for variables\n",
    "\n",
    "3:Variable code example\n",
    "\n",
    "4:Popcorn hack?"
   ]
  }
 ],
 "metadata": {
  "language_info": {
   "name": "python"
  }
 },
 "nbformat": 4,
 "nbformat_minor": 2
}
