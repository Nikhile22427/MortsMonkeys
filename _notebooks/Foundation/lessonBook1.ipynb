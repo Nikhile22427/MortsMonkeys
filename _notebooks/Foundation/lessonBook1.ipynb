{
 "cells": [
  {
   "cell_type": "markdown",
   "metadata": {},
   "source": [
    "Outline for the lesson:\n",
    "\n",
    "1: What is a variable?\n",
    "\n",
    "2: common uses for variables\n",
    "\n",
    "3:Variable code example\n",
    "\n",
    "4:Popcorn hack?"
   ]
  },
  {
   "cell_type": "markdown",
   "metadata": {},
   "source": [
    "## What is a Variable?"
   ]
  },
  {
   "cell_type": "markdown",
   "metadata": {},
   "source": [
    "- a variable is a container used to store information set by the user\n",
    "    - this allows the data to be easily accessed and manipulated throughout the code\n",
    "- they also provide a way to label data with a descriptive name\n",
    "    - this allows for easier navigation and understanding through code\n",
    "\n",
    "> Simplifying the yap: variables are like boxes which can hold different items. You can change what it holds, but it can only hold one thing at a time.\n"
   ]
  },
  {
   "cell_type": "markdown",
   "metadata": {},
   "source": [
    "## Types of variables"
   ]
  },
  {
   "cell_type": "markdown",
   "metadata": {},
   "source": [
    "Numbers: integers and floating point numbers"
   ]
  },
  {
   "cell_type": "code",
   "execution_count": null,
   "metadata": {
    "vscode": {
     "languageId": "javascript"
    }
   },
   "outputs": [
    {
     "ename": "",
     "evalue": "",
     "output_type": "error",
     "traceback": [
      "\u001b[1;31mRunning cells with 'Python 3.13.0' requires the ipykernel package.\n",
      "\u001b[1;31mRun the following command to install 'ipykernel' into the Python environment. \n",
      "\u001b[1;31mCommand: '/usr/local/bin/python3 -m pip install ipykernel -U --user --force-reinstall'"
     ]
    }
   ],
   "source": [
    "let Number1 = 25\n",
    "console.log(Number1)"
   ]
  }
 ],
 "metadata": {
  "kernelspec": {
   "display_name": "Python 3",
   "language": "python",
   "name": "python3"
  },
  "language_info": {
   "name": "python",
   "version": "3.13.0"
  }
 },
 "nbformat": 4,
 "nbformat_minor": 2
}
