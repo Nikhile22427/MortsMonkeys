{
 "cells": [
  {
   "cell_type": "markdown",
   "metadata": {},
   "source": [
    "Outline for the lesson:\n",
    "\n",
    "1: What is a variable?\n",
    "\n",
    "2: common uses for variables\n",
    "\n",
    "3: Variable code example\n",
    "\n",
    "4: What is Popcorn hack?"
   ]
  },
  {
   "cell_type": "markdown",
   "metadata": {},
   "source": [
    "## What is a Variable?"
   ]
  },
  {
   "cell_type": "markdown",
   "metadata": {},
   "source": [
    "Variables are labeled containers that store values, such as numbers or strings. They are defined by the programmer and can be accessed and, in most cases, changed throughout the code of the program. Some examples of variable usage are:\n",
    "<ul>\n",
    "    <li>\n",
    "    Keeping scores in video games (Ex: score = 10)\n",
    "    </li>\n",
    "    <li>\n",
    "    Storing user-inputted text (Ex: message = \"Hello!\")\n",
    "    </li>\n",
    "    <li>\n",
    "    Keeping track of positions (Ex: playerX = 0)\n",
    "    </li>\n",
    "</ul>\n",
    "Since many values need to change during a program runs, variables are extremely useful in all programming applications.\n",
    "\n",
    "> Simplifying the yap: Variables are labeled containers that store values in code. They can be accessed and manipulated throughout the program and are extremely important in programming.\n"
   ]
  },
  {
   "cell_type": "markdown",
   "metadata": {},
   "source": [
    "## Types of variables"
   ]
  },
  {
   "cell_type": "markdown",
   "metadata": {},
   "source": [
    "Numbers: integers and floating point numbers"
   ]
  },
  {
   "cell_type": "code",
   "execution_count": null,
   "metadata": {
    "vscode": {
     "languageId": "javascript"
    }
   },
   "outputs": [
    {
     "ename": "",
     "evalue": "",
     "output_type": "error",
     "traceback": [
      "\u001b[1;31mRunning cells with 'Python 3.13.0' requires the ipykernel package.\n",
      "\u001b[1;31mRun the following command to install 'ipykernel' into the Python environment. \n",
      "\u001b[1;31mCommand: '/usr/local/bin/python3 -m pip install ipykernel -U --user --force-reinstall'"
     ]
    }
   ],
   "source": [
    "let Score = 25; //Sets a variable called \"Score\" to 25\n",
    "console.log(Score); //Prints the \"Score\" variable's value in the browser's console (will output \"25\")\n",
    "Score += 10; //Increases Score by 10"
   ]
  }
 ],
 "metadata": {
  "kernelspec": {
   "display_name": "Python 3",
   "language": "python",
   "name": "python3"
  },
  "language_info": {
   "name": "python",
   "version": "3.13.0"
  }
 },
 "nbformat": 4,
 "nbformat_minor": 2
}
