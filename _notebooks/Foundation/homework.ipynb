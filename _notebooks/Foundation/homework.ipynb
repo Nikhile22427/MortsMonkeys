{
 "cells": [
  {
   "cell_type": "markdown",
   "metadata": {},
   "source": [
    "Beginning of the Homework"
   ]
  }
 ],
 "metadata": {
  "language_info": {
   "name": "python"
  }
 },
 "nbformat": 4,
 "nbformat_minor": 2
}
